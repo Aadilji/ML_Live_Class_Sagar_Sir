{
 "cells": [
  {
   "cell_type": "code",
   "execution_count": 1,
   "id": "158c61d8",
   "metadata": {},
   "outputs": [],
   "source": [
    "import numpy as np "
   ]
  },
  {
   "cell_type": "code",
   "execution_count": 3,
   "id": "e1e49642",
   "metadata": {},
   "outputs": [],
   "source": [
    "import pandas as pd\n",
    "import numpy as np \n",
    "import matplotlib.pyplot as plt \n",
    "import seaborn as sns  "
   ]
  },
  {
   "cell_type": "code",
   "execution_count": 4,
   "id": "60c81aad",
   "metadata": {},
   "outputs": [],
   "source": [
    "df = pd.read_csv(r\"C:\\Users\\Er. Aadil Ji\\Desktop\\ML by Sagar\\ML_Live_Class_Sagar_Sir\\data\\Advertising (1) (1).csv\") \n",
    "\n",
    "# please do not take relative path"
   ]
  },
  {
   "cell_type": "code",
   "execution_count": 5,
   "id": "74a742bb",
   "metadata": {},
   "outputs": [
    {
     "data": {
      "text/html": [
       "<div>\n",
       "<style scoped>\n",
       "    .dataframe tbody tr th:only-of-type {\n",
       "        vertical-align: middle;\n",
       "    }\n",
       "\n",
       "    .dataframe tbody tr th {\n",
       "        vertical-align: top;\n",
       "    }\n",
       "\n",
       "    .dataframe thead th {\n",
       "        text-align: right;\n",
       "    }\n",
       "</style>\n",
       "<table border=\"1\" class=\"dataframe\">\n",
       "  <thead>\n",
       "    <tr style=\"text-align: right;\">\n",
       "      <th></th>\n",
       "      <th>TV</th>\n",
       "      <th>radio</th>\n",
       "      <th>newspaper</th>\n",
       "      <th>sales</th>\n",
       "    </tr>\n",
       "  </thead>\n",
       "  <tbody>\n",
       "    <tr>\n",
       "      <th>0</th>\n",
       "      <td>230.1</td>\n",
       "      <td>37.8</td>\n",
       "      <td>69.2</td>\n",
       "      <td>22.1</td>\n",
       "    </tr>\n",
       "    <tr>\n",
       "      <th>1</th>\n",
       "      <td>44.5</td>\n",
       "      <td>39.3</td>\n",
       "      <td>45.1</td>\n",
       "      <td>10.4</td>\n",
       "    </tr>\n",
       "    <tr>\n",
       "      <th>2</th>\n",
       "      <td>17.2</td>\n",
       "      <td>45.9</td>\n",
       "      <td>69.3</td>\n",
       "      <td>9.3</td>\n",
       "    </tr>\n",
       "    <tr>\n",
       "      <th>3</th>\n",
       "      <td>151.5</td>\n",
       "      <td>41.3</td>\n",
       "      <td>58.5</td>\n",
       "      <td>18.5</td>\n",
       "    </tr>\n",
       "    <tr>\n",
       "      <th>4</th>\n",
       "      <td>180.8</td>\n",
       "      <td>10.8</td>\n",
       "      <td>58.4</td>\n",
       "      <td>12.9</td>\n",
       "    </tr>\n",
       "  </tbody>\n",
       "</table>\n",
       "</div>"
      ],
      "text/plain": [
       "      TV  radio  newspaper  sales\n",
       "0  230.1   37.8       69.2   22.1\n",
       "1   44.5   39.3       45.1   10.4\n",
       "2   17.2   45.9       69.3    9.3\n",
       "3  151.5   41.3       58.5   18.5\n",
       "4  180.8   10.8       58.4   12.9"
      ]
     },
     "execution_count": 5,
     "metadata": {},
     "output_type": "execute_result"
    }
   ],
   "source": [
    "df.head() "
   ]
  },
  {
   "cell_type": "code",
   "execution_count": 6,
   "id": "255b6168",
   "metadata": {},
   "outputs": [
    {
     "data": {
      "text/html": [
       "<div>\n",
       "<style scoped>\n",
       "    .dataframe tbody tr th:only-of-type {\n",
       "        vertical-align: middle;\n",
       "    }\n",
       "\n",
       "    .dataframe tbody tr th {\n",
       "        vertical-align: top;\n",
       "    }\n",
       "\n",
       "    .dataframe thead th {\n",
       "        text-align: right;\n",
       "    }\n",
       "</style>\n",
       "<table border=\"1\" class=\"dataframe\">\n",
       "  <thead>\n",
       "    <tr style=\"text-align: right;\">\n",
       "      <th></th>\n",
       "      <th>TV</th>\n",
       "      <th>radio</th>\n",
       "      <th>newspaper</th>\n",
       "      <th>sales</th>\n",
       "    </tr>\n",
       "  </thead>\n",
       "  <tbody>\n",
       "    <tr>\n",
       "      <th>0</th>\n",
       "      <td>230.1</td>\n",
       "      <td>37.8</td>\n",
       "      <td>69.2</td>\n",
       "      <td>22.1</td>\n",
       "    </tr>\n",
       "    <tr>\n",
       "      <th>1</th>\n",
       "      <td>44.5</td>\n",
       "      <td>39.3</td>\n",
       "      <td>45.1</td>\n",
       "      <td>10.4</td>\n",
       "    </tr>\n",
       "    <tr>\n",
       "      <th>2</th>\n",
       "      <td>17.2</td>\n",
       "      <td>45.9</td>\n",
       "      <td>69.3</td>\n",
       "      <td>9.3</td>\n",
       "    </tr>\n",
       "    <tr>\n",
       "      <th>3</th>\n",
       "      <td>151.5</td>\n",
       "      <td>41.3</td>\n",
       "      <td>58.5</td>\n",
       "      <td>18.5</td>\n",
       "    </tr>\n",
       "    <tr>\n",
       "      <th>4</th>\n",
       "      <td>180.8</td>\n",
       "      <td>10.8</td>\n",
       "      <td>58.4</td>\n",
       "      <td>12.9</td>\n",
       "    </tr>\n",
       "  </tbody>\n",
       "</table>\n",
       "</div>"
      ],
      "text/plain": [
       "      TV  radio  newspaper  sales\n",
       "0  230.1   37.8       69.2   22.1\n",
       "1   44.5   39.3       45.1   10.4\n",
       "2   17.2   45.9       69.3    9.3\n",
       "3  151.5   41.3       58.5   18.5\n",
       "4  180.8   10.8       58.4   12.9"
      ]
     },
     "execution_count": 6,
     "metadata": {},
     "output_type": "execute_result"
    }
   ],
   "source": [
    "x = df \n",
    "x.head() \n",
    "\n",
    "# x-values"
   ]
  },
  {
   "cell_type": "code",
   "execution_count": 7,
   "id": "96838cd4",
   "metadata": {},
   "outputs": [
    {
     "data": {
      "text/plain": [
       "0      22.1\n",
       "1      10.4\n",
       "2       9.3\n",
       "3      18.5\n",
       "4      12.9\n",
       "       ... \n",
       "195     7.6\n",
       "196     9.7\n",
       "197    12.8\n",
       "198    25.5\n",
       "199    13.4\n",
       "Name: sales, Length: 200, dtype: float64"
      ]
     },
     "execution_count": 7,
     "metadata": {},
     "output_type": "execute_result"
    }
   ],
   "source": [
    "y = df['sales'] \n",
    "y \n",
    "\n",
    "# y-values"
   ]
  },
  {
   "cell_type": "code",
   "execution_count": 9,
   "id": "0a51ce7a",
   "metadata": {},
   "outputs": [],
   "source": [
    "from sklearn.model_selection import train_test_split   "
   ]
  },
  {
   "cell_type": "code",
   "execution_count": 10,
   "id": "615d1bfe",
   "metadata": {},
   "outputs": [],
   "source": [
    "X_train, X_test, y_train, y_test = train_test_split( x, y, test_size=0.33, random_state=42)   \n",
    "\n",
    "# x_train and y_train is from training data\n",
    "# x_test and y_test is from testing data \n",
    "# random_state is used to fix the random sampling"
   ]
  },
  {
   "cell_type": "code",
   "execution_count": 11,
   "id": "39d70b3e",
   "metadata": {},
   "outputs": [],
   "source": [
    "from sklearn.linear_model import LinearRegression "
   ]
  },
  {
   "cell_type": "code",
   "execution_count": 12,
   "id": "49d30c52",
   "metadata": {},
   "outputs": [],
   "source": [
    "model = LinearRegression() "
   ]
  },
  {
   "cell_type": "code",
   "execution_count": 13,
   "id": "5b155f26",
   "metadata": {},
   "outputs": [
    {
     "data": {
      "text/plain": [
       "LinearRegression()"
      ]
     },
     "execution_count": 13,
     "metadata": {},
     "output_type": "execute_result"
    }
   ],
   "source": [
    "# model training \n",
    "model.fit(X_train,y_train) "
   ]
  },
  {
   "cell_type": "code",
   "execution_count": 14,
   "id": "cef492f5",
   "metadata": {},
   "outputs": [
    {
     "data": {
      "text/plain": [
       "array([16.9, 22.4, 21.4,  7.3, 24.7, 12.6, 22.3,  8.4, 11.5, 14.9,  9.5,\n",
       "        8.7, 11.9,  5.3, 10.3, 11.7,  5.5, 16.6, 11.3, 18.9, 19.7, 12.5,\n",
       "       10.9, 22.2,  9.3,  8.1, 21.7, 13.4, 10.6,  5.7, 10.6, 11.3, 23.7,\n",
       "        8.7, 16.1, 20.7, 11.6, 20.8, 11.9,  6.9, 11. , 12.8, 10.1,  9.7,\n",
       "       11.6,  7.6, 10.5, 14.6, 10.4, 12. , 14.6, 11.7,  7.2,  6.6,  9.4,\n",
       "       11. , 10.9, 25.4,  7.6, 11.7, 15. , 15.5, 11.9,  9.2, 12.8,  6.6])"
      ]
     },
     "execution_count": 14,
     "metadata": {},
     "output_type": "execute_result"
    }
   ],
   "source": [
    "test_pred = model.predict(X_test)\n",
    "test_pred "
   ]
  },
  {
   "cell_type": "code",
   "execution_count": 15,
   "id": "82244717",
   "metadata": {},
   "outputs": [],
   "source": [
    "from sklearn.metrics import mean_absolute_error, mean_squared_error"
   ]
  },
  {
   "cell_type": "code",
   "execution_count": 16,
   "id": "59d50b94",
   "metadata": {},
   "outputs": [
    {
     "data": {
      "text/plain": [
       "2.9875092299004213e-15"
      ]
     },
     "execution_count": 16,
     "metadata": {},
     "output_type": "execute_result"
    }
   ],
   "source": [
    "mean_absolute_error(y_test, test_pred) "
   ]
  },
  {
   "cell_type": "code",
   "execution_count": 17,
   "id": "d8a94f9b",
   "metadata": {},
   "outputs": [
    {
     "data": {
      "text/plain": [
       "1.99127616378516e-29"
      ]
     },
     "execution_count": 17,
     "metadata": {},
     "output_type": "execute_result"
    }
   ],
   "source": [
    "mean_squared_error(y_test, test_pred) "
   ]
  },
  {
   "cell_type": "code",
   "execution_count": 18,
   "id": "99d0b4f0",
   "metadata": {},
   "outputs": [
    {
     "data": {
      "text/plain": [
       "4.462371750297324e-15"
      ]
     },
     "execution_count": 18,
     "metadata": {},
     "output_type": "execute_result"
    }
   ],
   "source": [
    "np.sqrt(mean_squared_error(y_test, test_pred))"
   ]
  },
  {
   "cell_type": "code",
   "execution_count": 19,
   "id": "1cf94c86",
   "metadata": {},
   "outputs": [
    {
     "data": {
      "text/plain": [
       "95    -7.105427e-15\n",
       "15    -7.105427e-15\n",
       "30     0.000000e+00\n",
       "158   -4.440892e-15\n",
       "128    1.065814e-14\n",
       "           ...     \n",
       "97     1.776357e-15\n",
       "31    -3.552714e-15\n",
       "12    -7.105427e-15\n",
       "35     3.552714e-15\n",
       "119    0.000000e+00\n",
       "Name: sales, Length: 66, dtype: float64"
      ]
     },
     "execution_count": 19,
     "metadata": {},
     "output_type": "execute_result"
    }
   ],
   "source": [
    "# residual error \n",
    "test_residual = y_test - test_pred  \n",
    "test_residual"
   ]
  },
  {
   "cell_type": "code",
   "execution_count": 20,
   "id": "5f7f2aa2",
   "metadata": {},
   "outputs": [
    {
     "data": {
      "text/plain": [
       "<matplotlib.lines.Line2D at 0x26db710e550>"
      ]
     },
     "execution_count": 20,
     "metadata": {},
     "output_type": "execute_result"
    },
    {
     "data": {
      "image/png": "[encoded data removed]",
      "text/plain": [
       "<Figure size 432x288 with 1 Axes>"
      ]
     },
     "metadata": {
      "needs_background": "light"
     },
     "output_type": "display_data"
    }
   ],
   "source": [
    "sns.scatterplot(x = y_test, y = test_residual)    # x = y_test is nothing but the sales\n",
    "plt.axhline(y = 0, color = 'red', ls ='--')       # mean line in form of dash"
   ]
  },
  {
   "cell_type": "code",
   "execution_count": 21,
   "id": "0f49c238",
   "metadata": {},
   "outputs": [
    {
     "data": {
      "text/plain": [
       "<seaborn.axisgrid.FacetGrid at 0x26db710ea90>"
      ]
     },
     "execution_count": 21,
     "metadata": {},
     "output_type": "execute_result"
    },
    {
     "data": {
      "image/png": "[encoded data removed]",
      "text/plain": [
       "<Figure size 360x360 with 1 Axes>"
      ]
     },
     "metadata": {
      "needs_background": "light"
     },
     "output_type": "display_data"
    }
   ],
   "source": [
    "sns.displot(test_residual, bins = 30 , kde = True)          #  kde =  kernel density estimation\n",
    "\n",
    "# residual error should form a gausian or normal distribution graph"
   ]
  },
  {
   "cell_type": "code",
   "execution_count": 22,
   "id": "93ce8d16",
   "metadata": {},
   "outputs": [
    {
     "data": {
      "image/png": "[encoded data removed]",
      "text/plain": [
       "<Figure size 600x800 with 1 Axes>"
      ]
     },
     "metadata": {
      "needs_background": "light"
     },
     "output_type": "display_data"
    }
   ],
   "source": [
    "import scipy as sp \n",
    "\n",
    "# create a figure and axis to plot on \n",
    "fig, ax = plt.subplots(figsize = (6,8), dpi = 100)\n",
    "\n",
    "# probplot returns the raw values if needed \n",
    "# we just want to the plot, so we are assigning this raw values to _\n",
    "\n",
    "_ = sp.stats.probplot(test_residual, plot = ax) \n",
    "\n",
    "\n",
    "\n",
    "# test residuals kya hai upper check karo..."
   ]
  },
  {
   "cell_type": "code",
   "execution_count": 23,
   "id": "2aa103e2",
   "metadata": {},
   "outputs": [
    {
     "data": {
      "text/plain": [
       "array([3.89989299e-18, 0.00000000e+00, 1.66533454e-16, 1.00000000e+00])"
      ]
     },
     "execution_count": 23,
     "metadata": {},
     "output_type": "execute_result"
    }
   ],
   "source": [
    "# coefficient\n",
    "\n",
    "model.coef_ \n",
    "\n",
    "# it is the model coef(m-value) for tv,radio,newspaper"
   ]
  },
  {
   "cell_type": "code",
   "execution_count": 24,
   "id": "a4c69586",
   "metadata": {},
   "outputs": [
    {
     "data": {
      "text/plain": [
       "array([16.9, 22.4, 21.4,  7.3, 24.7, 12.6, 22.3,  8.4, 11.5, 14.9,  9.5,\n",
       "        8.7, 11.9,  5.3, 10.3, 11.7,  5.5, 16.6, 11.3, 18.9, 19.7, 12.5,\n",
       "       10.9, 22.2,  9.3,  8.1, 21.7, 13.4, 10.6,  5.7, 10.6, 11.3, 23.7,\n",
       "        8.7, 16.1, 20.7, 11.6, 20.8, 11.9,  6.9, 11. , 12.8, 10.1,  9.7,\n",
       "       11.6,  7.6, 10.5, 14.6, 10.4, 12. , 14.6, 11.7,  7.2,  6.6,  9.4,\n",
       "       11. , 10.9, 25.4,  7.6, 11.7, 15. , 15.5, 11.9,  9.2, 12.8,  6.6])"
      ]
     },
     "execution_count": 24,
     "metadata": {},
     "output_type": "execute_result"
    }
   ],
   "source": [
    "# prediction point for X_test\n",
    "y_hat = model.predict(X_test) \n",
    "y_hat "
   ]
  },
  {
   "cell_type": "code",
   "execution_count": 25,
   "id": "6047ac0f",
   "metadata": {},
   "outputs": [
    {
     "data": {
      "text/plain": [
       "array([22.1, 10.4,  9.3, 18.5, 12.9,  7.2, 11.8, 13.2,  4.8, 10.6,  8.6,\n",
       "       17.4,  9.2,  9.7, 19. , 22.4, 12.5, 24.4, 11.3, 14.6, 18. , 12.5,\n",
       "        5.6, 15.5,  9.7, 12. , 15. , 15.9, 18.9, 10.5, 21.4, 11.9,  9.6,\n",
       "       17.4,  9.5, 12.8, 25.4, 14.7, 10.1, 21.5, 16.6, 17.1, 20.7, 12.9,\n",
       "        8.5, 14.9, 10.6, 23.2, 14.8,  9.7, 11.4, 10.7, 22.6, 21.2, 20.2,\n",
       "       23.7,  5.5, 13.2, 23.8, 18.4,  8.1, 24.2, 15.7, 14. , 18. ,  9.3,\n",
       "        9.5, 13.4, 18.9, 22.3, 18.3, 12.4,  8.8, 11. , 17. ,  8.7,  6.9,\n",
       "       14.2,  5.3, 11. , 11.8, 12.3, 11.3, 13.6, 21.7, 15.2, 12. , 16. ,\n",
       "       12.9, 16.7, 11.2,  7.3, 19.4, 22.2, 11.5, 16.9, 11.7, 15.5, 25.4,\n",
       "       17.2, 11.7, 23.8, 14.8, 14.7, 20.7, 19.2,  7.2,  8.7,  5.3, 19.8,\n",
       "       13.4, 21.8, 14.1, 15.9, 14.6, 12.6, 12.2,  9.4, 15.9,  6.6, 15.5,\n",
       "        7. , 11.6, 15.2, 19.7, 10.6,  6.6,  8.8, 24.7,  9.7,  1.6, 12.7,\n",
       "        5.7, 19.6, 10.8, 11.6,  9.5, 20.8,  9.6, 20.7, 10.9, 19.2, 20.1,\n",
       "       10.4, 11.4, 10.3, 13.2, 25.4, 10.9, 10.1, 16.1, 11.6, 16.6, 19. ,\n",
       "       15.6,  3.2, 15.3, 10.1,  7.3, 12.9, 14.4, 13.3, 14.9, 18. , 11.9,\n",
       "       11.9,  8. , 12.2, 17.1, 15. ,  8.4, 14.5,  7.6, 11.7, 11.5, 27. ,\n",
       "       20.2, 11.7, 11.8, 12.6, 10.5, 12.2,  8.7, 26.2, 17.6, 22.6, 10.3,\n",
       "       17.3, 15.9,  6.7, 10.8,  9.9,  5.9, 19.6, 17.3,  7.6,  9.7, 12.8,\n",
       "       25.5, 13.4])"
      ]
     },
     "execution_count": 25,
     "metadata": {},
     "output_type": "execute_result"
    }
   ],
   "source": [
    "# prediction point for X_test\n",
    "y_hat = model.predict(x) \n",
    "y_hat "
   ]
  },
  {
   "cell_type": "code",
   "execution_count": 26,
   "id": "cd96ec2c",
   "metadata": {},
   "outputs": [
    {
     "data": {
      "text/plain": [
       "Text(0.5, 1.0, 'Newspaper Spend')"
      ]
     },
     "execution_count": 26,
     "metadata": {},
     "output_type": "execute_result"
    },
    {
     "data": {
      "image/png": "[encoded data removed]",
      "text/plain": [
       "<Figure size 1152x432 with 3 Axes>"
      ]
     },
     "metadata": {
      "needs_background": "light"
     },
     "output_type": "display_data"
    }
   ],
   "source": [
    "# now to check the relations b/w the features of data we can use the matplotlib \n",
    "\n",
    "fig,axes = plt.subplots(nrows = 1, ncols = 3, figsize = (16,6))\n",
    "\n",
    "axes[0].plot(df['TV'],df['sales'], 'o')\n",
    "axes[0].set_ylabel('sales')              # label name\n",
    "axes[0].set_title('TV Spend')            # title\n",
    "\n",
    "axes[1].plot(df['radio'],df['sales'], 'o')\n",
    "axes[1].set_ylabel('sales')              # label name\n",
    "axes[1].set_title('Radio Spend')            # title\n",
    "\n",
    "axes[2].plot(df['newspaper'],df['sales'], 'o')\n",
    "axes[2].set_ylabel('sales')              # label name\n",
    "axes[2].set_title('Newspaper Spend')            # title "
   ]
  },
  {
   "cell_type": "code",
   "execution_count": 27,
   "id": "e9847c25",
   "metadata": {},
   "outputs": [
    {
     "data": {
      "text/plain": [
       "Text(0.5, 1.0, 'Newspaper Spend')"
      ]
     },
     "execution_count": 27,
     "metadata": {},
     "output_type": "execute_result"
    },
    {
     "data": {
      "image/png": "[encoded data removed]",
      "text/plain": [
       "<Figure size 1152x432 with 3 Axes>"
      ]
     },
     "metadata": {
      "needs_background": "light"
     },
     "output_type": "display_data"
    }
   ],
   "source": [
    "fig,axes = plt.subplots(nrows = 1, ncols = 3, figsize = (16,6))\n",
    "\n",
    "axes[0].plot(df['TV'],df['sales'], 'o')\n",
    "axes[0].plot(df['TV'],y_hat, 'o', color = 'red')\n",
    "axes[0].set_ylabel('sales')              \n",
    "axes[0].set_title('TV Spend')            \n",
    "\n",
    "axes[1].plot(df['radio'],df['sales'], 'o')\n",
    "axes[1].plot(df['radio'],y_hat, 'o', color = 'red')\n",
    "axes[1].set_ylabel('sales')              \n",
    "axes[1].set_title('Radio Spend')            \n",
    "\n",
    "axes[2].plot(df['newspaper'],df['sales'], 'o')\n",
    "axes[2].plot(df['newspaper'],y_hat, 'o', color = 'red')\n",
    "axes[2].set_ylabel('sales')              \n",
    "axes[2].set_title('Newspaper Spend')     "
   ]
  },
  {
   "cell_type": "code",
   "execution_count": null,
   "id": "fa4cee90",
   "metadata": {},
   "outputs": [],
   "source": [
    "# TASK\n",
    "# Try to see why only red points are coming here and not the blue points in this above graph... \n",
    " "
   ]
  }
 ],
 "metadata": {
  "kernelspec": {
   "display_name": "Python 3 (ipykernel)",
   "language": "python",
   "name": "python3"
  },
  "language_info": {
   "codemirror_mode": {
    "name": "ipython",
    "version": 3
   },
   "file_extension": ".py",
   "mimetype": "text/x-python",
   "name": "python",
   "nbconvert_exporter": "python",
   "pygments_lexer": "ipython3",
   "version": "3.7.0"
  }
 },
 "nbformat": 4,
 "nbformat_minor": 5
}
